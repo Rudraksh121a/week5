{
 "cells": [
  {
   "cell_type": "raw",
   "id": "3fad3592-2c38-4402-8c55-065e19332f62",
   "metadata": {},
   "source": [
    "Q1. Wht is an Exeption in python? Write the difference between Exeptions and syntax error\n",
    "x errors\u001e"
   ]
  },
  {
   "cell_type": "raw",
   "id": "baed4725-482b-478c-bdcc-92c1d3372f65",
   "metadata": {},
   "source": [
    "An exception in Python is a runtime error that occurs when the code encounters a problem during execution. It disrupts the normal flow of the program. Exceptions can be caused by various reasons such as dividing by zero, accessing an undefined variable, or trying to open a non-existent file.Syntax errors, on the other hand, occur when the code violates the rules of the Python language. They are detected by the Python interpreter before the program is run. These errors usually involve incorrect usage of keywords, missing colons, or other structural mistakes in the code."
   ]
  },
  {
   "cell_type": "raw",
   "id": "cb2d38fa-1343-4592-9998-61bf58ffe44d",
   "metadata": {},
   "source": [
    "Q2. What happens when an exception is not handled? Explain with an example.\n",
    "\n",
    "In Python, when an exception occurs while trying to convert a string to an integer (e.g., using int()), it raises a ValueError exception. This typically happens when the string doesn't represent a valid integer."
   ]
  },
  {
   "cell_type": "code",
   "execution_count": null,
   "id": "c87b7514-00d1-4289-9762-b9e849cdacc1",
   "metadata": {},
   "outputs": [],
   "source": [
    "try:\n",
    "    num = int(\"abc\")  # This will raise a ValueError\n",
    "except ValueError as e:\n",
    "    print(f\"Error: {e}\")"
   ]
  },
  {
   "cell_type": "raw",
   "id": "707c2c05-df62-47fd-b355-38a935bdc943",
   "metadata": {},
   "source": [
    "Q3. Which Python statements are used to catch and handle exceptions? Explain with an example."
   ]
  },
  {
   "cell_type": "code",
   "execution_count": null,
   "id": "238a3b71-0c46-489f-9f3b-15ea9cb16f3c",
   "metadata": {},
   "outputs": [],
   "source": [
    "try:\n",
    "    num = int(\"abc\")  # This will raise a ValueError\n",
    "except ValueError as e:\n",
    "    print(f\"Error: {e}\")"
   ]
  },
  {
   "cell_type": "raw",
   "id": "ba3ea06d-d659-4f12-93f7-8d0d742bb322",
   "metadata": {},
   "source": [
    "Q4. Explain with an example:\n",
    "a)try and else\n",
    "b) finall\n",
    "3) raise"
   ]
  },
  {
   "cell_type": "code",
   "execution_count": 3,
   "id": "ac6ebc2e-daf2-4e8a-9014-d637759317d0",
   "metadata": {},
   "outputs": [
    {
     "name": "stdout",
     "output_type": "stream",
     "text": [
      "this is my expect block [Errno 2] No such file or directory: 'tes1221t.txt'\n",
      "finally will executed itself in any situation\n"
     ]
    }
   ],
   "source": [
    "#a\n",
    "try:\n",
    "    f=open(\"tes1221t.txt\",'r')\n",
    "    f.write('writei nnto my file')\n",
    "except Exception as e:\n",
    "    print('this is my expect block',e)\n",
    "else:\n",
    "    f.close()\n",
    "    print(\"this woll be execute dwithout erroe\")\n",
    "    \n",
    "#b\n",
    "try:\n",
    "    f=open('testtt2.txt','w')\n",
    "    f.write(\"something\")\n",
    "finally:\n",
    "    print('finally will executed itself in any situation')\n",
    "#c\n",
    "def divide(x, y):\n",
    "    if y == 0:\n",
    "        raise ValueError(\"Division by zero is not allowed\")\n",
    "    return x / y\n",
    "try:\n",
    "    result = divide(10, 0)\n",
    "except ValueError as e:\n",
    "    print(f\"Error: {e}\")\n",
    "else:\n",
    "    print(f\"Result: {result}\")"
   ]
  },
  {
   "cell_type": "raw",
   "id": "d0e12614-0097-4393-916c-07bcb8eaa86f",
   "metadata": {},
   "source": [
    "Q5. What are Custom Exceptions in python? Why do we need Custom Exceptions? Explain with an example.\n",
    "\n",
    "when we need to give custom error we use custom Exception"
   ]
  },
  {
   "cell_type": "code",
   "execution_count": 4,
   "id": "d20d8bd2-a2c3-436e-be7c-e0cd5c49c897",
   "metadata": {},
   "outputs": [
    {
     "name": "stdout",
     "output_type": "stream",
     "text": [
      "division by zero\n"
     ]
    }
   ],
   "source": [
    "try:\n",
    "    a=10/0\n",
    "except ZeroDivisionError as e:\n",
    "    print(e)"
   ]
  },
  {
   "cell_type": "raw",
   "id": "e858e00a-55a9-4346-b995-16b93bf08762",
   "metadata": {},
   "source": [
    "Q6. Create a custom exception class. Use this class to handle an exception."
   ]
  },
  {
   "cell_type": "code",
   "execution_count": 6,
   "id": "31dc4d75-638c-4267-ab0f-2c2bec65c9de",
   "metadata": {},
   "outputs": [
    {
     "name": "stdin",
     "output_type": "stream",
     "text": [
      "enter your age 45\n"
     ]
    },
    {
     "name": "stdout",
     "output_type": "stream",
     "text": [
      "age is valid\n"
     ]
    }
   ],
   "source": [
    "class validateage(Exception):\n",
    "    def __init__(self,msg):\n",
    "        self.msg=msg\n",
    "def validaetage(age):\n",
    "    if age<0:\n",
    "        raise validateage(\"entered age is negative\")\n",
    "    elif age>200:\n",
    "        raise validateage(\"entered age is very very high\")\n",
    "    else:\n",
    "        print(\"age is valid\")\n",
    "try:\n",
    "    age=int(input('enter your age'))\n",
    "    validaetage(age)\n",
    "except validateage as e:\n",
    "    print(e)"
   ]
  },
  {
   "cell_type": "code",
   "execution_count": null,
   "id": "26490ea4-d050-40f1-a7f9-441374eb3490",
   "metadata": {},
   "outputs": [],
   "source": []
  }
 ],
 "metadata": {
  "kernelspec": {
   "display_name": "Python 3 (ipykernel)",
   "language": "python",
   "name": "python3"
  },
  "language_info": {
   "codemirror_mode": {
    "name": "ipython",
    "version": 3
   },
   "file_extension": ".py",
   "mimetype": "text/x-python",
   "name": "python",
   "nbconvert_exporter": "python",
   "pygments_lexer": "ipython3",
   "version": "3.10.8"
  }
 },
 "nbformat": 4,
 "nbformat_minor": 5
}
