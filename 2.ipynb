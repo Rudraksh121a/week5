{
 "cells": [
  {
   "cell_type": "raw",
   "id": "3a126fb4-31fd-4ce0-b88a-5a0e5c27f722",
   "metadata": {},
   "source": [
    "Q1. Explain why we have to use the Exception class while creating a Custom Exception.\n",
    "\n",
    "Using the Exception class as the base class when creating a custom exception in Python is a good practice for several reasons:Consistency with Built-in Exceptions: Python's exception hierarchy is structured in a way that the base class for all exceptions is BaseException, and it is further subclassed into Exception, which is the base class for most user-defined exceptions. This hierarchy ensures consistency and predictability in exception handling.\n",
    "\n"
   ]
  },
  {
   "cell_type": "raw",
   "id": "040a45fe-4e89-437a-a8ce-53e12eb5cc68",
   "metadata": {},
   "source": [
    "Q2. Write a python program to print Python Exception Hierarchy.\n"
   ]
  },
  {
   "cell_type": "code",
   "execution_count": null,
   "id": "e89751cb-96c5-4ef7-a7bb-01290c195805",
   "metadata": {},
   "outputs": [],
   "source": [
    "def print_exception_hierarchy(exception_class, level=0):\n",
    "    indent = \"  \" * level\n",
    "    print(f\"{indent}{exception_class.__name__}\")\n",
    "    for base_exception in exception_class.__bases__:\n",
    "        print_exception_hierarchy(base_exception, level + 1)\n",
    "# Start from the base Exception class\n",
    "print_exception_hierarchy(Exception"
   ]
  },
  {
   "cell_type": "raw",
   "id": "3288a747-f2c1-41a9-98c2-e14f5f15c281",
   "metadata": {},
   "source": [
    "Q3. What errors are defined in the ArithmeticError class? Explain any two with an example."
   ]
  },
  {
   "cell_type": "code",
   "execution_count": null,
   "id": "f59c126b-b966-46cd-acd1-f75626bdd36e",
   "metadata": {},
   "outputs": [],
   "source": [
    "try:\n",
    "    a=10/0\n",
    "except ZeroDivisionError as e:\n",
    "    print(e)"
   ]
  },
  {
   "cell_type": "raw",
   "id": "c39dc5aa-1549-4e10-aff1-523c2e968374",
   "metadata": {},
   "source": [
    "Q4. Why LookupError class is used? Explain with an example KeyError and IndexError."
   ]
  },
  {
   "cell_type": "raw",
   "id": "c9f60d0e-4196-4f54-83db-37dd73544d60",
   "metadata": {},
   "source": [
    "The LookupError class in Python is a base class for exceptions related to looking up or accessing elements in various data structures, such as lists, dictionaries, and sequences. It provides a common ancestor for exceptions like KeyError and IndexError. These exceptions are raised when there is a problem with accessing elements in a collection."
   ]
  },
  {
   "cell_type": "raw",
   "id": "346a14d1-fd96-40c0-ab22-dfb0061038e7",
   "metadata": {},
   "source": [
    "Q5. Explain ImportError. What is ModuleNotFoundError?\n",
    "\n",
    "this error mean when module not found in program"
   ]
  },
  {
   "cell_type": "code",
   "execution_count": 1,
   "id": "5996e3c9-4d50-446f-b473-bea95cce67df",
   "metadata": {},
   "outputs": [
    {
     "name": "stdout",
     "output_type": "stream",
     "text": [
      "No module named 'anything'\n"
     ]
    }
   ],
   "source": [
    "try:\n",
    "    import anything\n",
    "except ImportError as e:\n",
    "    print(e)"
   ]
  },
  {
   "cell_type": "raw",
   "id": "30968ca1-0498-4d33-8ec4-09a4750461be",
   "metadata": {},
   "source": [
    "Q6. List down some best practices for exception handling in python.\n"
   ]
  },
  {
   "cell_type": "code",
   "execution_count": null,
   "id": "02b0e8b6-2109-4ca6-b701-21e7e70df922",
   "metadata": {},
   "outputs": [],
   "source": [
    "# use always a specific excepion\n",
    "# print always a proper message\n",
    "# always try to log your error\n",
    "# always avoid to wrint a multiple exception handeling\n",
    "#cleanup all the resources"
   ]
  }
 ],
 "metadata": {
  "kernelspec": {
   "display_name": "Python 3 (ipykernel)",
   "language": "python",
   "name": "python3"
  },
  "language_info": {
   "codemirror_mode": {
    "name": "ipython",
    "version": 3
   },
   "file_extension": ".py",
   "mimetype": "text/x-python",
   "name": "python",
   "nbconvert_exporter": "python",
   "pygments_lexer": "ipython3",
   "version": "3.10.8"
  }
 },
 "nbformat": 4,
 "nbformat_minor": 5
}
