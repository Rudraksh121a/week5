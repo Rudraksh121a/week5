{
 "cells": [
  {
   "cell_type": "raw",
   "id": "647a1ce4-155c-44c4-904f-f8754dab77f1",
   "metadata": {},
   "source": [
    "Q1. What is multithreading in python? Why is it used? Name the module used to handle threads in python.\n",
    "\n",
    "we use multithreading when we need to run program in 1 core processer of cpu\n",
    "\n",
    "we use threading module to use multithreading"
   ]
  },
  {
   "cell_type": "raw",
   "id": "7105c6e1-e31f-41e9-8c79-54539fdd6abc",
   "metadata": {},
   "source": [
    "Q2. Why threading module used? Write the use of the following functions\n",
    "1 activeCount()\n",
    "2 current.Thread()\n",
    "3 enumerate()\n",
    "\n",
    "\n",
    "\n",
    "1 activeCount():threading.activeCount() returns the number of Thread objects currently alive in the program\n",
    "\n",
    "\n",
    "2\n",
    "\n",
    "currentThread():threading.currentThread() returns the current Thread object for the calling thread.This function allows you to access information about the thread that's currently executing the code, such as its name, ID, or other attributes.\n",
    "3\n",
    "\n",
    "enumerate():threading.enumerate() returns a list of all Thread objects currently alive in the program.This function is useful for iterating through and inspecting all active threads, which can be beneficial for various debugging or monitoring purposes. "
   ]
  },
  {
   "cell_type": "raw",
   "id": "0c75368d-a884-4d16-aebf-91ed612f859a",
   "metadata": {},
   "source": [
    "Q3. Explain the following functions\n",
    "1 run()\n",
    "2 start()\n",
    "3 join()\n",
    "4isAlive()\n",
    "\n",
    "1run():\n",
    "The run() method is a user-defined method that you can override in your custom thread class. It contains the code that will be executed when you start a thread using the start() method.\n",
    "\n",
    "start():The start() method is used to initiate the execution of a thread. When you call start() on a thread object, it starts a new thread of execution and calls the run() method of that thread\n",
    "\n",
    "3\n",
    "join():The join() method is used to wait for a thread to complete its execution. When you call join() on a thread, the program will pause and wait until that thread finishes before continuing.\n",
    "\n",
    "4\n",
    "isAlive():The isAlive() method is used to check whether a thread is currently running or has finished its execution.It returns True if the thread is still running and False if the thread has completed its execution."
   ]
  },
  {
   "cell_type": "raw",
   "id": "ad34e44e-0a5f-4044-b855-547254dedf2b",
   "metadata": {},
   "source": [
    "Q4. Write a python program to create two threads. Thread one must print the list of squares and thread two must print the list of cubes.\n"
   ]
  },
  {
   "cell_type": "code",
   "execution_count": null,
   "id": "f962066e-2276-4cde-9e1a-e2cb328fa342",
   "metadata": {},
   "outputs": [],
   "source": [
    "import threading\n",
    "def print_squares():\n",
    "    for i in range(1, 6):\n",
    "        print(f\"Square of {i}: {i**2}\")\n",
    "def print_cubes():\n",
    "    for i in range(1, 6):\n",
    "        print(f\"Cube of {i}: {i**3}\")\n",
    "# Create two thread objects\n",
    "thread1 = threading.Thread(target=print_squares)\n",
    "thread2 = threading.Thread(target=print_cubes)\n",
    "# Start the threads\n",
    "thread1.start()\n",
    "thread2.start()\n",
    "# Wait for both threads to finish before exiting\n",
    "thread1.join()\n",
    "thread2.join()\n",
    "print(\"Main program exits\")"
   ]
  },
  {
   "cell_type": "raw",
   "id": "3d25e00e-060f-4470-aa67-c077accd93ab",
   "metadata": {},
   "source": [
    "Q5. State advantages and disadvantages of multithreading.\n",
    "\n",
    "\n",
    "Advantages of Multithreading:Improved Performance:One of the primary advantages of multithreading is improved performance on multi-core processors. Multiple threads can execute tasks concurrently, making better use of available CPU resources and potentially reducing execution time.\n",
    "\n",
    "Disadvantages of Multithreading:Complexity:Multithreaded programming can be complex and error-prone. Synchronization issues, such as race conditions and deadlocks, can arise when multiple threads access shared resources concurrently."
   ]
  },
  {
   "cell_type": "raw",
   "id": "b079154e-ca9e-4a25-a472-ce424a78282d",
   "metadata": {},
   "source": [
    "Q6. Explain deadlocks and race conditions.\n",
    "\n",
    "\n",
    "Deadlocks and race conditions are two common concurrency-related problems that can occur in multithreaded or multiprocess programs.Deadlocks:A deadlock is a situation in which two or more threads or processes are unable to proceed because each is waiting for the other(s) to release a resource, resulting in a standstill."
   ]
  }
 ],
 "metadata": {
  "kernelspec": {
   "display_name": "Python 3 (ipykernel)",
   "language": "python",
   "name": "python3"
  },
  "language_info": {
   "codemirror_mode": {
    "name": "ipython",
    "version": 3
   },
   "file_extension": ".py",
   "mimetype": "text/x-python",
   "name": "python",
   "nbconvert_exporter": "python",
   "pygments_lexer": "ipython3",
   "version": "3.10.8"
  }
 },
 "nbformat": 4,
 "nbformat_minor": 5
}
