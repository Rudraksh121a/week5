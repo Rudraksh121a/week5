{
 "cells": [
  {
   "cell_type": "raw",
   "id": "97fc7dc8-f9c6-4050-a984-ed9293321d02",
   "metadata": {},
   "source": [
    "Q1. What is multiprocessing in python? Why is it useful?\n",
    "\n",
    "In Python, multiprocessing is a module that allows you to create and manage multiple processes, each of which runs its own Python interpreter and has its own memory space. This is in contrast to multithreading, where multiple threads share the same memory space and are executed within a single process."
   ]
  },
  {
   "cell_type": "raw",
   "id": "5d5ad1f4-8218-416f-88c7-4f2347f834be",
   "metadata": {},
   "source": [
    "Q2. What are the differences between multiprocessing and multithreading?\n",
    "\n",
    "Multiprocessing: In multiprocessing, multiple processes are created, each with its own memory space and Python interpreter. These processes run independently and can execute tasks concurrently. Processes do not share memory by default, which can help prevent data corruption but requires explicit inter-process communication mechanisms.Multithreading: In multithreading, multiple threads are created within a single process. Threads share the same memory space and can access the same variables and data structures. Threads are lighter-weight than processes but can introduce concurrency challenges like race conditions and deadlocks."
   ]
  },
  {
   "cell_type": "raw",
   "id": "c7ca8310-d12a-4bb4-b37d-7e31dbd83449",
   "metadata": {},
   "source": [
    "Q3. Write a python code to create a process using the multiprocessing module."
   ]
  },
  {
   "cell_type": "code",
   "execution_count": null,
   "id": "fc938186-ccd9-4fa5-983c-1d0601eb0ef2",
   "metadata": {},
   "outputs": [],
   "source": [
    "import multiprocessing\n",
    "def square(number):\n",
    "    result = number * number\n",
    "    return result\n",
    "if __name__ == \"__main__\":\n",
    "    numbers = [1, 2, 3, 4, 5]\n",
    "    pool = multiprocessing.Pool(processes=2)\n",
    "    results = pool.map(square, numbers)\n",
    "    pool.close()\n",
    "    pool.join()\n",
    "    print(\"Results:\", results)"
   ]
  },
  {
   "cell_type": "raw",
   "id": "5a4375a0-ee80-4750-bba4-fd09f8f8b7d1",
   "metadata": {},
   "source": [
    "Q4. What is a multiprocessing pool in python? Why is it used?\n",
    "\n",
    "\n",
    " multiprocessing pool in Python, provided by the multiprocessing module, is a high-level abstraction that simplifies the process of parallelizing tasks across multiple processes. It offers a convenient way to distribute tasks to multiple worker processes, allowing them to execute concurrently and efficiently utilize available CPU cores. Here's why and how you use a multiprocessing pool:Advantages of Using a Multiprocessing Pool:Parallel Execution: A pool allows you to parallelize the execution of a function or a set of functions across multiple processes. Each process in the pool can work on a different task simultaneously, providing a significant performance boost for CPU-bound tasks."
   ]
  },
  {
   "cell_type": "raw",
   "id": "d6969134-64c7-40d6-b7f8-5e0783308a0f",
   "metadata": {},
   "source": [
    "Q5. How can we create a pool of worker processes in python using the multiprocessing module?\n"
   ]
  },
  {
   "cell_type": "code",
   "execution_count": null,
   "id": "ef10c946-55fc-4ee7-8325-7b8f8db4cae4",
   "metadata": {},
   "outputs": [],
   "source": [
    "port multiprocessing\n",
    "# Define a function that the worker processes will execute\n",
    "def worker_function(item):\n",
    "    # Do some work here\n",
    "    result = item * 2\n",
    "    return result\n",
    "if __name__ == \"__main__\":\n",
    "    # Create a multiprocessing pool with a specified number of processes\n",
    "    num_processes = 4  # You can adjust this based on your CPU cores\n",
    "    pool = multiprocessing.Pool(processes=num_processes)\n",
    "    # Create a list of items to process in parallel\n",
    "    items_to_process = [1, 2, 3, 4, 5, 6, 7, 8, 9, 10]\n",
    "    # Use the pool's map method to apply the worker function to items concurrently\n",
    "    results = pool.map(worker_function, items_to_process)\n",
    "    # Close the pool and wait for all processes to finish\n",
    "    pool.close()\n",
    "    pool.join()\n",
    "    # Print the results\n",
    "    print(\"Results:\", results)"
   ]
  },
  {
   "cell_type": "raw",
   "id": "396986e9-b195-477b-a398-f9215a64d5ef",
   "metadata": {},
   "source": [
    "Q6. Write a python program to create 4 processes, each process should print a different number using the multiprocessing module in python."
   ]
  },
  {
   "cell_type": "code",
   "execution_count": null,
   "id": "ef475b60-a3e4-4958-a10b-d0f624b0c4c5",
   "metadata": {},
   "outputs": [],
   "source": [
    "import multiprocessing\n",
    "def print_numbers(start, end):\n",
    "    for i in range(start, end + 1):\n",
    "        print(f\"Process {multiprocessing.current_process().name}: {i}\")\n",
    "if __name__ == \"__main__\":\n",
    "    # Define the range of numbers for each process\n",
    "    ranges = [(1, 5), (6, 10), (11, 15), (16, 20)]\n",
    "    # Create a list to store the process objects\n",
    "    processes = []\n",
    "    # Create and start four processes\n",
    "    for i, (start, end) in enumerate(ranges):\n",
    "        process = multiprocessing.Process(target=print_numbers, args=(start, end))\n",
    "        process.start()\n",
    "        processes.append(process)\n",
    "    # Wait for all processes to finish\n",
    "    for process in processes:\n",
    "        process.join()\n",
    "    print(\"All processes have finished.\")"
   ]
  }
 ],
 "metadata": {
  "kernelspec": {
   "display_name": "Python 3 (ipykernel)",
   "language": "python",
   "name": "python3"
  },
  "language_info": {
   "codemirror_mode": {
    "name": "ipython",
    "version": 3
   },
   "file_extension": ".py",
   "mimetype": "text/x-python",
   "name": "python",
   "nbconvert_exporter": "python",
   "pygments_lexer": "ipython3",
   "version": "3.10.8"
  }
 },
 "nbformat": 4,
 "nbformat_minor": 5
}
